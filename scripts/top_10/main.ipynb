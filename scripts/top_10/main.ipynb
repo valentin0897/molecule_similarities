{
 "cells": [
  {
   "cell_type": "code",
   "execution_count": null,
   "metadata": {},
   "outputs": [],
   "source": [
    "import os\n",
    "import pandas as pd\n",
    "\n",
    "def find_top_similar_molecules(input_dir, output_dir):\n",
    "    for file_name in os.listdir(input_dir):\n",
    "        if file_name.endswith('.parquet'):\n",
    "            file_path = os.path.join(input_dir, file_name)\n",
    "            df = pd.read_parquet(file_path)\n",
    "            df = df.sort_values(by='similarity_score', ascending=False)\n",
    "            top_10 = df.head(10)\n",
    "            top_10['has_duplicates_of_last_largest_score'] = (top_10['similarity_score'] == top_10['similarity_score'].iloc[-1])\n",
    "            output_file = os.path.join(output_dir, f'top_10_{file_name}')\n",
    "            top_10.to_parquet(output_file, index=False)\n",
    "\n",
    "top_10_output_dir = './top_10_similar'\n",
    "os.makedirs(top_10_output_dir, exist_ok=True)\n",
    "\n",
    "find_top_similar_molecules('../tanimoto/similarity_scores', top_10_output_dir)\n"
   ]
  }
 ],
 "metadata": {
  "kernelspec": {
   "display_name": "Python 3",
   "language": "python",
   "name": "python3"
  },
  "language_info": {
   "codemirror_mode": {
    "name": "ipython",
    "version": 3
   },
   "file_extension": ".py",
   "mimetype": "text/x-python",
   "name": "python",
   "nbconvert_exporter": "python",
   "pygments_lexer": "ipython3",
   "version": "3.10.12"
  }
 },
 "nbformat": 4,
 "nbformat_minor": 2
}
